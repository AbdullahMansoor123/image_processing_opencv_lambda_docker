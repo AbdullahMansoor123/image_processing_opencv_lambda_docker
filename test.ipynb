{
 "cells": [
  {
   "cell_type": "code",
   "execution_count": null,
   "metadata": {},
   "outputs": [
    {
     "name": "stdout",
     "output_type": "stream",
     "text": [
      "Processed image saved to output.json\n"
     ]
    }
   ],
   "source": [
    "import json\n",
    "import cv2\n",
    "import base64\n",
    "import numpy as np\n",
    "\n",
    "def encode_image_to_base64(image):\n",
    "    \"\"\"Encodes an image to a Base64 string without saving to disk.\"\"\"\n",
    "    _, buffer = cv2.imencode(\".png\", image)\n",
    "    image_bytes = buffer.tobytes()\n",
    "    return base64.b64encode(image_bytes).decode(\"utf-8\")\n",
    "\n",
    "def decode_base64_img(img_base64):\n",
    "    \"\"\"Decodes a Base64 string to an OpenCV image without saving to disk.\"\"\"\n",
    "    image_bytes = base64.b64decode(img_base64)\n",
    "    image_array = np.frombuffer(image_bytes, dtype=np.uint8)\n",
    "    return cv2.imdecode(image_array, cv2.IMREAD_COLOR)\n",
    "\n",
    "def process_image(input_json, output_json):\n",
    "    \"\"\"Reads a JSON file, converts the image to grayscale, and saves output JSON.\"\"\"\n",
    "    with open(input_json, \"r\") as f:\n",
    "        data = json.load(f)\n",
    "\n",
    "    img_base64 = data.get(\"body\", \"\")\n",
    "    if not img_base64:\n",
    "        print(\"Error: No image data found in JSON.\")\n",
    "        return\n",
    "\n",
    "    img = decode_base64_img(img_base64)\n",
    "    gray_img = cv2.cvtColor(img, cv2.COLOR_BGR2GRAY)\n",
    "\n",
    "    gray_base64 = encode_image_to_base64(gray_img)\n",
    "\n",
    "    output_data = {\"image\": gray_base64}\n",
    "    with open(output_json, \"w\") as f:\n",
    "        json.dump(output_data, f)\n",
    "\n",
    "    print(f\"Processed image saved to {output_json}\")\n",
    "\n",
    "if __name__ == \"__main__\":\n",
    "    input_json = \"test_input.json\"\n",
    "    output_json = \"output.json\"\n",
    "    process_image(input_json, output_json)\n"
   ]
  },
  {
   "cell_type": "markdown",
   "metadata": {},
   "source": [
    "# test the api\n"
   ]
  },
  {
   "cell_type": "code",
   "execution_count": 1,
   "metadata": {},
   "outputs": [
    {
     "data": {
      "text/plain": [
       "True"
      ]
     },
     "execution_count": 1,
     "metadata": {},
     "output_type": "execute_result"
    }
   ],
   "source": [
    "from io import BytesIO\n",
    "\n",
    "from PIL import Image\n",
    "import numpy as np\n",
    "import requests\n",
    "import cv2\n",
    "\n",
    "# API endpoint to convert image to gray\n",
    "def convertToGrayAPI(img):\n",
    "    API_ENDPOINT = 'https://zocfvvoa81.execute-api.us-east-1.amazonaws.com/dev'  # paste your endpoint here\n",
    "\n",
    "    is_success, im_buf_arr = cv2.imencode(\".png\", img)\n",
    "    byte_im = im_buf_arr.tobytes()\n",
    "\n",
    "    r = requests.post(url=API_ENDPOINT, data=byte_im)\n",
    "\n",
    "    img_ = Image.open(BytesIO(r.content))\n",
    "\n",
    "    return np.asarray(img_)\n",
    "\n",
    "\n",
    "img_path = 'parrots.png'\n",
    "\n",
    "img = cv2.imread(img_path)\n",
    "\n",
    "img_gray = convertToGrayAPI(img)\n",
    "\n",
    "cv2.imwrite('./test_img_gray.png', img_gray)"
   ]
  }
 ],
 "metadata": {
  "kernelspec": {
   "display_name": "dl12",
   "language": "python",
   "name": "python3"
  },
  "language_info": {
   "codemirror_mode": {
    "name": "ipython",
    "version": 3
   },
   "file_extension": ".py",
   "mimetype": "text/x-python",
   "name": "python",
   "nbconvert_exporter": "python",
   "pygments_lexer": "ipython3",
   "version": "3.12.8"
  }
 },
 "nbformat": 4,
 "nbformat_minor": 2
}
